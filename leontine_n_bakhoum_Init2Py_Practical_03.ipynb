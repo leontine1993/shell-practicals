{
 "cells": [
  {
   "cell_type": "markdown",
   "metadata": {
    "id": "12_fdbLn8p4A"
   },
   "source": [
    "\n",
    "\n",
    "    \n",
    "#    <center> <b> <span style=\"color:orange;\" >  `Python for Scientific Computing and Software Engineering ` </span> </b></center>\n",
    "\n",
    "\n",
    "## <center> <b> <span style=\"color:orange;\"> An Initiation to Programming using Python (Init2Py) </span> </b></center>\n",
    "\n",
    "### <center> <b> <span style=\"color:blue;\"> Travaux Pratiques: Objets itérables ou conteneurs</span> </b></center>\n"
   ]
  },
  {
   "cell_type": "markdown",
   "metadata": {
    "id": "E_ZB23H68p4D"
   },
   "source": [
    "###  <center> <b> <span style=\"color:blue;\"> Listes </span> </b></center>"
   ]
  },
  {
   "cell_type": "markdown",
   "metadata": {
    "id": "H0cIcjGk8p4G"
   },
   "source": [
    "#### **Exercice 00:** \n",
    ">**Déclarer une liste vide.**"
   ]
  },
  {
   "cell_type": "code",
   "execution_count": 1,
   "metadata": {
    "id": "45QEMilz8p4I"
   },
   "outputs": [],
   "source": [
    "liste = list()"
   ]
  },
  {
   "cell_type": "markdown",
   "metadata": {
    "id": "zZ0XnwpB8p4J"
   },
   "source": [
    "#### **Exercice 01:** \n",
    ">**Déclarer une liste de plus de 5 éléments.**"
   ]
  },
  {
   "cell_type": "code",
   "execution_count": 4,
   "metadata": {
    "id": "HV32hLfA8p4L"
   },
   "outputs": [],
   "source": [
    "liste5=[1,2,3,4,5,6]"
   ]
  },
  {
   "cell_type": "markdown",
   "metadata": {
    "id": "tJpy6kNz8p4M"
   },
   "source": [
    "#### **Exercice 02:** \n",
    ">**Trouver la longueur de votre liste.**"
   ]
  },
  {
   "cell_type": "code",
   "execution_count": 5,
   "metadata": {
    "id": "627A_RNw8p4O"
   },
   "outputs": [
    {
     "data": {
      "text/plain": [
       "6"
      ]
     },
     "execution_count": 5,
     "metadata": {},
     "output_type": "execute_result"
    }
   ],
   "source": [
    "len(liste5)"
   ]
  },
  {
   "cell_type": "markdown",
   "metadata": {
    "id": "unFrwT5t8p4Q"
   },
   "source": [
    "#### **Exercice 03:** \n",
    ">**Obtenez le premier élément, l'élément central et le dernier élément de la liste.**\n",
    "\n"
   ]
  },
  {
   "cell_type": "code",
   "execution_count": 9,
   "metadata": {
    "id": "MUuc1gaQ8p4R"
   },
   "outputs": [
    {
     "name": "stdout",
     "output_type": "stream",
     "text": [
      "1\n",
      "4\n",
      "6\n"
     ]
    }
   ],
   "source": [
    "print(liste5[0])\n",
    "print(liste5[int(len(liste5)/2)])\n",
    "print(liste5[-1])"
   ]
  },
  {
   "cell_type": "markdown",
   "metadata": {
    "id": "4Rqp8q0L8p4R"
   },
   "source": [
    "#### **Exercice 04:** \n",
    ">**Déclarez une liste appelée mixed_data_types, mettez votre (nom, âge, taille, état civil, adresse).**"
   ]
  },
  {
   "cell_type": "code",
   "execution_count": 11,
   "metadata": {
    "id": "EoZPW2UH8p4S"
   },
   "outputs": [
    {
     "name": "stdout",
     "output_type": "stream",
     "text": [
      "['Bakhoum', 28, 1.62, 'Single', 'Fatick']\n"
     ]
    }
   ],
   "source": [
    "mixed_data_types=[\"Bakhoum\",28, 1.62 ,\"Single\",\"Fatick\"]\n",
    "print(mixed_data_types)"
   ]
  },
  {
   "cell_type": "markdown",
   "metadata": {
    "id": "OPYSNV1l8p4T"
   },
   "source": [
    "#### **Exercice 05:** \n",
    "\n",
    "    1. Déclarez une variable liste appelée it_companies et attribuez les valeurs initiales Facebook, Google, Microsoft, Apple, IBM, Oracle et Amazon.\n",
    "\n",
    "    2. Imprimez la liste à l'aide de print()\n",
    "\n",
    "    3. Imprimez le nombre d'entreprises dans la liste\n",
    "\n",
    "    4. Imprimez la première, la moyenne et la dernière entreprise\n",
    "\n",
    "    5. Imprimez la liste après avoir modifié l'une des entreprises.\n",
    "\n",
    "    6. Ajout d'une entreprise informatique à it_companies\n",
    "\n",
    "    7. Insérer une entreprise informatique au milieu de la liste des entreprises\n",
    "\n",
    "    8. Changez le nom d'une des it_companies en majuscule (sauf IBM !)\n",
    "\n",
    "    9. Joignez les it_companies avec une chaîne '# ; '.\n",
    "\n",
    "    10. Vérifier si une certaine entreprise existe dans la liste it_companies.\n",
    "\n",
    "    11. Trier la liste en utilisant la méthode sort()\n",
    "\n",
    "    12. Inversez la liste par ordre décroissant à l'aide de la méthode reverse().\n",
    "\n",
    "    13. Supprimez les 3 premières entreprises de la liste.\n",
    "\n",
    "    14. Supprimez les 3 dernières entreprises de la liste.\n",
    "\n",
    "    15. Supprimez la ou les entreprises informatiques du milieu de la liste.\n",
    "\n",
    "    16. Supprimez la première entreprise informatique de la liste\n",
    "\n",
    "    17. Supprimez la ou les entreprises informatiques du milieu de la liste.\n",
    "\n",
    "    18. Retirer la dernière entreprise informatique de la liste\n",
    "\n",
    "    19. Supprimez toutes les entreprises informatiques de la liste\n",
    "\n",
    "    20. Détruire la liste des entreprises informatiques"
   ]
  },
  {
   "cell_type": "code",
   "execution_count": 18,
   "metadata": {
    "id": "4M_XODba8p4V"
   },
   "outputs": [
    {
     "name": "stdout",
     "output_type": "stream",
     "text": [
      "['Facebook', 'Google', 'Microsoft', 'Apple', 'IBM', 'Oracle', 'Amazon']\n",
      "Facebook Apple Amazon\n",
      "['Facebook', 'Google', 'Microsoft', 'Apple', 'IBM', 'maman_service', 'Amazon']\n",
      "['Facebook', 'Google', 'Microsoft', 'Apple', 'IBM', 'maman_service', 'Amazon', 'Informatic_computing']\n",
      "['Facebook', 'Google', 'Microsoft', 'Apple', 'IBM', 'BAKHBADE', 'maman_service', 'Amazon', 'Informatic_computing']\n",
      "MICROSOFT\n",
      "Facebook# ;Google# ;Microsoft# ;Apple# ;IBM# ;Oracle# ;Amazon\n",
      "Apple is around\n",
      "['Amazon', 'Apple', 'Facebook', 'Google', 'IBM', 'Microsoft', 'Oracle']\n",
      "['Amazon', 'Oracle', 'IBM', 'Apple', 'Microsoft', 'Google', 'Facebook']\n",
      "['Apple', 'IBM', 'Oracle', 'Amazon']\n",
      "['Facebook', 'Google', 'Microsoft', 'Apple']\n",
      "['Facebook', 'Google', 'Microsoft', 'IBM', 'Oracle', 'Amazon']\n",
      "['Google', 'Microsoft', 'Apple', 'IBM', 'Oracle', 'Amazon']\n",
      "['Google', 'Microsoft', 'Apple', 'Oracle', 'Amazon']\n",
      "['Google', 'Microsoft', 'Apple', 'Oracle']\n",
      "[]\n",
      "[]\n"
     ]
    }
   ],
   "source": [
    "\n",
    "\n",
    "\n",
    "\n",
    "\n",
    "it_companies=[\"Facebook\",\"Google\", \"Microsoft\", \"Apple\", \"IBM\", \"Oracle\", \"Amazon\"]\n",
    "it_companies[-2]=\"maman_service\"\n",
    "print(it_companies)\n",
    "\n",
    "\n",
    "it_companies.append(\"Informatic_computing\")\n",
    "print(it_companies)\n",
    "\n",
    "\n",
    "it_companies.insert(int(len(it_companies)/2)+1, \"BAKHBADE\")\n",
    "print(it_companies)\n",
    "\n",
    "maj=it_companies[2].upper()\n",
    "print(maj)\n",
    "\n",
    "\n",
    "\n",
    "it_companies=[\"Facebook\",\"Google\", \"Microsoft\", \"Apple\", \"IBM\", \"Oracle\", \"Amazon\"]\n",
    "maj=\"# ;\".join(it_companies)\n",
    "print(maj)\n",
    "\n",
    "\n",
    "it_companies=[\"Facebook\",\"Google\", \"Microsoft\", \"Apple\", \"IBM\", \"Oracle\", \"Amazon\"]\n",
    "if \"Apple\" in it_companies:\n",
    " print(\"Apple is around\")\n",
    "else:\n",
    " print(\"Apple is not around\")\n",
    "\n",
    "\n",
    "it_companies=[\"Facebook\",\"Google\", \"Microsoft\", \"Apple\", \"IBM\", \"Oracle\", \"Amazon\"]\n",
    "it_companies.sort()\n",
    "print(it_companies)\n",
    "\n",
    "\n",
    "it_companies=[\"Facebook\",\"Google\", \"Microsoft\", \"Apple\", \"IBM\", \"Oracle\", \"Amazon\"]\n",
    "it_companies.reverse()\n",
    "print(it_companies)\n",
    "\n",
    "\n",
    "it_companies=[\"Facebook\",\"Google\", \"Microsoft\", \"Apple\", \"IBM\", \"Oracle\", \"Amazon\"]\n",
    "del it_companies[0:3]\n",
    "print(it_companies)\n",
    "\n",
    "\n",
    "it_companies=[\"Facebook\",\"Google\", \"Microsoft\", \"Apple\", \"IBM\", \"Oracle\", \"Amazon\"]\n",
    "del it_companies[-3:]\n",
    "print(it_companies)\n",
    "\n",
    "\n",
    "it_companies=[\"Facebook\",\"Google\", \"Microsoft\", \"Apple\", \"IBM\", \"Oracle\", \"Amazon\"]\n",
    "del it_companies[int(len(it_companies)/2)]\n",
    "print(it_companies)\n",
    "\n",
    "\n",
    "\n",
    "it_companies=[\"Facebook\",\"Google\", \"Microsoft\", \"Apple\", \"IBM\", \"Oracle\", \"Amazon\"]\n",
    "del it_companies[0]\n",
    "print(it_companies)\n",
    "\n",
    "\n",
    "del it_companies[int(len(it_companies)/2)]\n",
    "print(it_companies)\n",
    "\n",
    "\n",
    "\n",
    "del it_companies[-1]\n",
    "print(it_companies)\n",
    "\n",
    "\n",
    "del it_companies[0:]\n",
    "print(it_companies)\n",
    "\n",
    "\n"
   ]
  },
  {
   "cell_type": "markdown",
   "metadata": {
    "id": "AfauolZA8p4V"
   },
   "source": [
    "#### **Exercice 06:** \n",
    "**Joindre les listes suivantes :**\n",
    "     \n",
    "         front_end = ['HTML', 'CSS', 'JS', 'React', 'Redux']  \n",
    "         back_end = ['Node','Express', 'MongoDB']"
   ]
  },
  {
   "cell_type": "code",
   "execution_count": 20,
   "metadata": {
    "id": "6V8OXDSW8p4W"
   },
   "outputs": [
    {
     "name": "stdout",
     "output_type": "stream",
     "text": [
      "['HTML', 'CSS', 'JS', 'React', 'Redux', 'Node', 'Express', 'MongoDB']\n"
     ]
    }
   ],
   "source": [
    "front_end = ['HTML', 'CSS', 'JS', 'React', 'Redux']\n",
    "back_end = ['Node','Express', 'MongoDB']\n",
    "front_end = ['HTML', 'CSS', 'JS', 'React', 'Redux']\n",
    "back_end = ['Node','Express', 'MongoDB']\n"
   ]
  },
  {
   "cell_type": "markdown",
   "metadata": {
    "id": "kASFM1bh8p4X"
   },
   "source": [
    "#### **Exercice 07:** \n",
    "Voici une liste de 10 âges d'étudiants :\n",
    "\n",
    "         ages = [19, 22, 19, 24, 20, 25, 26, 24, 25, 24]\n",
    "         \n",
    " \n",
    "    1. Trier la liste et trouver l'âge minimum et maximum.\n",
    "    2. Ajoutez à nouveau l'âge minimum et l'âge maximum à la liste.\n",
    "    3. Trouvez l'âge médian (un élément du milieu ou deux éléments du milieu divisés par deux).\n",
    "    4. Trouvez l'âge moyen (somme de tous les éléments divisée par leur nombre).\n",
    "    4. Trouver l'intervalle des âges (max moins min)\n",
    "    5. Comparez les valeurs de (min - moyenne) et (max - moyenne) en utilisant la méthode abs().\n",
    "        "
   ]
  },
  {
   "cell_type": "code",
   "execution_count": 25,
   "metadata": {},
   "outputs": [
    {
     "name": "stdout",
     "output_type": "stream",
     "text": [
      "19 26\n",
      "[19, 19, 20, 22, 24, 24, 24, 25, 25, 26, 19, 26]\n",
      "24\n",
      "22\n",
      "22\n",
      "22\n",
      "22\n",
      "22\n",
      "22\n",
      "22\n",
      "22\n",
      "22\n",
      "22\n",
      "22\n",
      "22\n",
      "26 19\n"
     ]
    },
    {
     "data": {
      "text/plain": [
       "7"
      ]
     },
     "execution_count": 25,
     "metadata": {},
     "output_type": "execute_result"
    }
   ],
   "source": [
    "ages = [19, 22, 19, 24, 20, 25, 26, 24, 25, 24]\n",
    "ages.sort()\n",
    "print(ages[0],ages[-1])\n",
    "\n",
    "     #1.Ajoutez à nouveau l'âge minimum et l'âge maximum à la liste.\n",
    "\n",
    "ages.extend([19,26])\n",
    "print(ages)\n",
    "\n",
    "     #2.Trouvez l'âge médian (un élément du milieu ou deux éléments du milieu divisés par deux).\n",
    "print(ages[int(len(ages)/2)])\n",
    "\n",
    "      #3.Trouvez l'âge moyen (somme de tous les éléments divisée par leur nombre).\n",
    "for i in range(len(ages)):\n",
    "   ages.append(ages[i])\n",
    "   x=sum(ages)\n",
    "   print(int(x/len(ages)))\n",
    "    \n",
    "    #4.Trouver l'intervalle des âges (max moins min)\n",
    "ages.sort()\n",
    "print(ages[-1],ages[0])\n",
    "\n",
    "      #5.Comparez les valeurs de (min - moyenne) et (max - moyenne) en utilisant la méthode abs().\n",
    "import math\n",
    "minmoy=19-22\n",
    "maxmoy=26-22\n",
    "abs(minmoy-maxmoy)"
   ]
  },
  {
   "cell_type": "markdown",
   "metadata": {
    "id": "VzcSJMf18p4j"
   },
   "source": [
    "\n",
    "1. Créer un dictionnaire vide appelé `dog`\n",
    "2. Ajoute le nom, la couleur, la race, les pattes, l'âge au dictionnaire dog.\n",
    "3. Créez un dictionnaire student et ajoutez le prénom, le nom, le sexe, l'âge, l'état civil, les compétences, le pays, la ville et l'adresse comme clés pour le dictionnaire.\n",
    "4. Obtenez la longueur du dictionnaire student\n",
    "5. Récupérez la valeur des compétences et vérifiez le type de données, il doit s'agir d'une liste.\n",
    "6. Modifiez les valeurs des compétences en ajoutant une ou deux compétences.\n",
    "7. Obtenez les clés du dictionnaire sous forme de liste\n",
    "8. Obtenir les valeurs du dictionnaire sous forme de liste\n",
    "9. Transformer le dictionnaire en une liste de tuples en utilisant la méthode items()\n",
    "10. Supprimer un des éléments du dictionnaire\n",
    "11. Supprimer un des dictionnaires\n"
   ]
  },
  {
   "cell_type": "code",
   "execution_count": 8,
   "metadata": {
    "id": "LJ6DfBUh8p4k"
   },
   "outputs": [
    {
     "name": "stdout",
     "output_type": "stream",
     "text": [
      "{'name': 'Leontine', 'couleur': 'blue', 'race': 'noire', 'pattes': 2, 'ages': 28}\n",
      "{'prenom': 'Leontine', 'nom': 'Bakhoum', 'sexe': 'F', 'age': 28, 'etat civil': 'celibataire', 'competences': ['Statistic', \"Capacité d'adaptation\", 'Créativité'], 'Pays': 'senegal', 'ville': 'Fatick', 'adresse': 'diam laye'}\n",
      "9\n",
      "['Statistic', \"Capacité d'adaptation\", 'Créativité'] <class 'list'>\n",
      "['Statistic', \"Capacité d'adaptation\", 'Créativité', 'Prise de décision']\n",
      "dict_keys(['prenom', 'nom', 'sexe', 'age', 'etat civil', 'competences', 'Pays', 'ville', 'adresse'])\n",
      "dict_values(['Leontine', 'Bakhoum', 'F', 28, 'celibataire', ['Statistic', \"Capacité d'adaptation\", 'Créativité', 'Prise de décision'], 'senegal', 'Fatick', 'diam laye'])\n",
      "{'prenom': 'Leontine', 'nom': 'Bakhoum', 'sexe': 'F', 'age': 28, 'etat civil': 'celibataire', 'Pays': 'Senegal', 'ville': 'Fatick', 'adresse': 'diam laye'}\n",
      "[{'name': 'Leontine', 'couleur': 'blue', 'race': 'noire', 'pattes': 2, 'ages': 28}, {'prenom': 'Leontine', 'nom': 'Bakhoum', 'sexe': 'F', 'age': 28, 'etat civil': 'celibataire', 'Pays': 'Senegal', 'ville': 'Fatick', 'adresse': 'diam laye'}]\n",
      "[{'prenom': 'Leontine', 'nom': 'Bakhoum', 'sexe': 'F', 'age': 28, 'etat civil': 'celibataire', 'Pays': 'Senegal', 'ville': 'Fatick', 'adresse': 'diam laye'}]\n"
     ]
    }
   ],
   "source": [
    "\n",
    "#\n",
    "\n",
    "\n",
    "#\n",
    "#['Analysis', \"Capacité d'adaptation\", 'Créativité', 'Leadership'] <class 'list'>\n",
    "#\n",
    "\n",
    "\n",
    "\n",
    "#dict_keys(['prenom', 'nom', 'sexe', 'age', 'etat civil', 'competences', 'Pays', 'ville','adresse'])\n",
    "\n",
    "#dict_values(['Leontine ', 'Bakhoum', 'F', 28, 'celibataire', ['Statistic', \"Capacité d'adaptation\", 'Prise de décision'], 'Senegal','Fatick', 'diam laye'])\n",
    "\n",
    "#dict_items([('prenom', 'Leontine'), ('nom', 'Bakhoum'), ('sexe', 'F'), ('age', 28), ('etat civil', 'celibataire'), ('competences', ['Statistical', \"Capacité d'adaptation\", 'Prise de décision'], [('Pays', 'senegal'), ('ville','Fatick'), ('adresse', 'diam laye')])\n",
    "\n",
    "   #{'prenom': 'Leontine', 'Nom': 'Bakhoum', 'sexe': 'F, 'age': 28, 'etat civil':'celibataire', 'Pays': 'Senegal', 'ville': 'Fatick', 'adresse': 'diam laye'}\n"
   ]
  },
  {
   "cell_type": "code",
   "execution_count": null,
   "metadata": {},
   "outputs": [],
   "source": [
    "it_companies=[\"Facebook\",\"Google\", \"Microsoft\", \"Apple\", \"IBM\", \"Oracle\", \"Amazon\"]\n",
    "print(it_companies)\n"
   ]
  },
  {
   "cell_type": "code",
   "execution_count": null,
   "metadata": {},
   "outputs": [],
   "source": [
    "print(it_companies[0], it_companies[int(len(it_companies)/2)], it_companies[-1])"
   ]
  },
  {
   "cell_type": "code",
   "execution_count": null,
   "metadata": {},
   "outputs": [],
   "source": [
    "#1. Créer un dictionnaire vide appelé dog\n",
    "dog={}\n",
    "#1. Ajoute le nom, la couleur, la race, les pattes, l'âge au dictionnaire dog.\n",
    "dog[\"name\"]=\"Leontine\"\n",
    "dog[\"couleur\"]=\"blue\"\n",
    "dog[\"race\"]=\"noire\"\n",
    "dog[\"pattes\"]=2\n",
    "dog[\"ages\"]=28\n",
    "print(dog)"
   ]
  },
  {
   "cell_type": "code",
   "execution_count": null,
   "metadata": {},
   "outputs": [],
   "source": [
    "1. Créez un dictionnaire student et ajoutez le prénom, le nom, le sexe, l'âge, l'état civil, les compétences, le pays, la\n",
    "#ville et l'adresse comme clés pour le dictionnaire.\n",
    "student={\"prenom\":\"Leontine\",\"nom\":\"Bakhoum\",\"sexe\":\"F\",\"age\":28,\"etat civil\":\"celibataire\",\"competences\":[\"Statistic\",\"Capacité d'adaptation\",\"Créativité\"],\"Pays\":\"senegal\",\"ville\":\"Fatick\",\"adresse\":\"diam laye\"}\n",
    "print(student)\n"
   ]
  },
  {
   "cell_type": "code",
   "execution_count": null,
   "metadata": {},
   "outputs": [],
   "source": [
    "#1. Obtenez la longueur du dictionnaire student\n",
    "print(len(student))"
   ]
  },
  {
   "cell_type": "code",
   "execution_count": null,
   "metadata": {},
   "outputs": [],
   "source": [
    "#5.Récupérez la valeur des compétences et vérifiez le type de données, il doit s'agir d'une liste.\n",
    "print(student[\"competences\"],type(student[\"competences\"]))#"
   ]
  },
  {
   "cell_type": "code",
   "execution_count": null,
   "metadata": {},
   "outputs": [],
   "source": [
    "#10. Modifiez les valeurs des compétences en ajoutant une ou deux compétences.\n",
    "student[\"competences\"].extend([\"Prise de décision\"])\n",
    "print(student[\"competences\"])"
   ]
  },
  {
   "cell_type": "code",
   "execution_count": null,
   "metadata": {},
   "outputs": [],
   "source": [
    "#10. Obtenez les clés du dictionnaire sous forme de liste\n",
    "print(student.keys())"
   ]
  },
  {
   "cell_type": "code",
   "execution_count": null,
   "metadata": {},
   "outputs": [],
   "source": [
    "#12. Obtenir les valeurs du dictionnaire sous forme de liste\n",
    "print(student.values())"
   ]
  },
  {
   "cell_type": "code",
   "execution_count": null,
   "metadata": {},
   "outputs": [],
   "source": [
    "#Result=[*front_end,*back_end]\n",
    "front_end.extend(back_end)\n",
    "print(front_end)"
   ]
  },
  {
   "cell_type": "code",
   "execution_count": null,
   "metadata": {},
   "outputs": [],
   "source": [
    "#13. Transformer le dictionnaire en une liste de tuples en utilisant la méthode items()\n",
    "student.items()"
   ]
  },
  {
   "cell_type": "code",
   "execution_count": null,
   "metadata": {},
   "outputs": [],
   "source": [
    "#14. Supprimer un des éléments du dictionnaire\n",
    "student={\"prenom\":\"Leontine\",\"nom\":\"Bakhoum\",\"sexe\":\"F\",\"age\":28,\"etat civil\":\"celibataire\",\"competences\":['Statistical', \"Capacité d'adaptation\", 'Prise de décision'], \"Pays\":\"Senegal\", \"ville\":\"Fatick\", \"adresse\":\"diam laye\"}\n",
    "del student[\"competences\"]\n",
    "print(student)"
   ]
  },
  {
   "cell_type": "code",
   "execution_count": null,
   "metadata": {},
   "outputs": [],
   "source": [
    "it_companies=[\"Facebook\",\"Google\", \"Microsoft\", \"Apple\", \"IBM\", \"Oracle\", \"Amazon\"]\n",
    "it_companies.clear()\n",
    "print(it_companies)"
   ]
  },
  {
   "cell_type": "code",
   "execution_count": null,
   "metadata": {},
   "outputs": [],
   "source": [
    "#15. Supprimer un des dictionnaires\n",
    "L=[dog,student]\n",
    "print(L)\n",
    "L.remove(dog)\n",
    "print(L)\n"
   ]
  },
  {
   "cell_type": "markdown",
   "metadata": {
    "id": "ugc1Itzb8p4l"
   },
   "source": [
    "<center> <b> <span style=\"color:orange;\"> 🎉 FÉLICITATIONS ! / CONGRATULATIONS !🎉 </span> </b></center>"
   ]
  }
 ],
 "metadata": {
  "colab": {
   "name": "Init2Py_Practical_03.ipynb",
   "provenance": []
  },
  "kernelspec": {
   "display_name": "Python 3",
   "language": "python",
   "name": "python3"
  },
  "language_info": {
   "codemirror_mode": {
    "name": "ipython",
    "version": 3
   },
   "file_extension": ".py",
   "mimetype": "text/x-python",
   "name": "python",
   "nbconvert_exporter": "python",
   "pygments_lexer": "ipython3",
   "version": "3.8.10"
  }
 },
 "nbformat": 4,
 "nbformat_minor": 1
}
